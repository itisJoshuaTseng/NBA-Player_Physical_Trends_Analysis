{
 "cells": [
  {
   "cell_type": "code",
   "execution_count": 9,
   "id": "1c95db83-4035-4059-b670-ec6ded412ff1",
   "metadata": {},
   "outputs": [],
   "source": [
    "import numpy as np\n",
    "import pandas as pd\n",
    "import matplotlib.pyplot as plt\n",
    "import seaborn as sns\n",
    "import os"
   ]
  },
  {
   "cell_type": "code",
   "execution_count": 10,
   "id": "fe9157dd-9ea2-4993-a2ce-6453fb043187",
   "metadata": {},
   "outputs": [],
   "source": [
    "team_abbr =  [\"HOU\", \"DEN\", \"LAL\", \"GSW\", \"MIN\", \"LAC\", \"SAC\", \"DAL\", \"PHO\", \"POR\"]\n",
    "base_folder = os.path.join(os.getcwd(), 'nba_rosters')"
   ]
  },
  {
   "cell_type": "code",
   "execution_count": 11,
   "id": "2cdb802c-beff-4cd5-bafa-309cc7c9dc99",
   "metadata": {},
   "outputs": [],
   "source": [
    "def format_ht(s):\n",
    "    foot = int(s.split('-')[0])\n",
    "    inch = int(s.split('-')[1])\n",
    "    inch += foot*12\n",
    "    cm = inch*2.54\n",
    "    return cm"
   ]
  },
  {
   "cell_type": "code",
   "execution_count": 12,
   "id": "59dde216-481a-4c09-a2dd-1fc61ed5a32d",
   "metadata": {},
   "outputs": [],
   "source": [
    "data = []\n",
    "for team in team_abbr:\n",
    "    for year in range(1990, 2026):\n",
    "        file_path = os.path.join(base_folder, team, f'{team}_{year}.csv')\n",
    "        if not os.path.exists(file_path):\n",
    "            continue\n",
    "        df_individual = pd.read_csv(file_path)\n",
    "        df_individual['Ht'] = df_individual['Ht'].apply(format_ht)\n",
    "        df_individual['Wt'] = df_individual['Wt']*0.45359237\n",
    "        avg_ht = df_individual['Ht'].mean()\n",
    "        avg_wt = df_individual['Wt'].mean()\n",
    "        data.append({\n",
    "            'team':team,\n",
    "            'year':year,\n",
    "            'avg_ht': avg_ht,\n",
    "            'avg_wt': avg_wt\n",
    "        })\n",
    "\n",
    "df = pd.DataFrame(data)\n"
   ]
  },
  {
   "cell_type": "code",
   "execution_count": 14,
   "id": "edbb8460-4ffc-44a9-a235-d96975b50f79",
   "metadata": {},
   "outputs": [],
   "source": [
    "df.head()\n",
    "df.to_csv('nba_rosters_full_data.csv')"
   ]
  }
 ],
 "metadata": {
  "kernelspec": {
   "display_name": "Python 3",
   "language": "python",
   "name": "python3"
  },
  "language_info": {
   "codemirror_mode": {
    "name": "ipython",
    "version": 3
   },
   "file_extension": ".py",
   "mimetype": "text/x-python",
   "name": "python",
   "nbconvert_exporter": "python",
   "pygments_lexer": "ipython3",
   "version": "3.12.9"
  }
 },
 "nbformat": 4,
 "nbformat_minor": 5
}
